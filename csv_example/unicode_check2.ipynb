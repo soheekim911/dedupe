{
 "cells": [
  {
   "cell_type": "code",
   "execution_count": 1,
   "metadata": {
    "collapsed": true
   },
   "outputs": [
    {
     "name": "stdout",
     "output_type": "stream",
     "text": [
      "8\n"
     ]
    }
   ],
   "source": [
    "print(3+5)"
   ]
  },
  {
   "cell_type": "code",
   "execution_count": 1,
   "metadata": {
    "pycharm": {
     "name": "#%%\n"
    }
   },
   "outputs": [
    {
     "name": "stdout",
     "output_type": "stream",
     "text": [
      "ㅇㅏㄴㅌㅏㄲㅏㅂㄱㅔㄷㅗ ㅎㅏㄴㄱㅡㄹㅇㅡㄴ ㅈㅗㅣㄷㅏ ㄲㅐㅈㅣㄴㅔㅇㅛ\n"
     ]
    }
   ],
   "source": [
    "print('ㅇㅏㄴㅌㅏㄲㅏㅂㄱㅔㄷㅗ ㅎㅏㄴㄱㅡㄹㅇㅡㄴ ㅈㅗㅣㄷㅏ ㄲㅐㅈㅣㄴㅔㅇㅛ')\n"
   ]
  },
  {
   "cell_type": "code",
   "execution_count": 1,
   "metadata": {
    "pycharm": {
     "name": "#%%\n"
    }
   },
   "outputs": [
    {
     "name": "stdout",
     "output_type": "stream",
     "text": [
      "이제는 한글이 됩니다\n"
     ]
    }
   ],
   "source": [
    "print('이제는 한글이 됩니다')\n",
    "\n"
   ]
  },
  {
   "cell_type": "code",
   "execution_count": 2,
   "metadata": {
    "pycharm": {
     "name": "#%%\n"
    }
   },
   "outputs": [],
   "source": [
    "from unidecode import unidecode\n",
    "import csv\n",
    "import re"
   ]
  },
  {
   "cell_type": "code",
   "execution_count": 31,
   "metadata": {
    "pycharm": {
     "name": "#%%\n"
    }
   },
   "outputs": [],
   "source": [
    "def preProcess(column):\n",
    "    \"\"\"\n",
    "    Do a little bit of data cleaning with the help of Unidecode and Regex.\n",
    "    Things like casing, extra spaces, quotes and new lines can be ignored.\n",
    "    \"\"\"\n",
    "#     print(column)\n",
    "    column = unidecode(column)\n",
    "    column = re.sub('  +', ' ', column)\n",
    "    column = re.sub('\\n', ' ', column)\n",
    "    column = column.strip().strip('\"').strip(\"'\").lower().strip()\n",
    "    # If data is missing, indicate that by setting the value to `None`\n",
    "    if not column:\n",
    "        column = None\n",
    "    return column\n",
    "\n",
    "def preProcess_half(column):\n",
    "    \"\"\"\n",
    "    얘는 유니코드로는 안 바꾸고 casing, space 제거 등등 클렌징만\n",
    "    \"\"\"\n",
    "    column = re.sub('  +', ' ', column)\n",
    "    column = re.sub('\\n', ' ', column)\n",
    "    column = column.strip().strip('\"').strip(\"'\").lower().strip()\n",
    "    # If data is missing, indicate that by setting the value to `None`\n",
    "    if not column:\n",
    "        column = None\n",
    "    return column\n",
    "\n",
    "\n",
    "def readData(filename):\n",
    "    \"\"\"\n",
    "    Read in our data from a CSV file and create a dictionary of records,\n",
    "    where the key is a unique record ID and each value is dict\n",
    "    \"\"\"\n",
    "\n",
    "    data_d = {}\n",
    "    with open(filename) as f:\n",
    "        reader = csv.DictReader(f)\n",
    "        for row in reader:\n",
    "            dirty_row = [(k, v) for (k, v) in row.items()]\n",
    "            clean_row = [(k, preProcess(v)) for (k, v) in row.items()]\n",
    "            row_id = int(row['index'])\n",
    "            data_d[row_id] = dict(clean_row)\n",
    "\n",
    "    return data_d"
   ]
  },
  {
   "cell_type": "code",
   "execution_count": 21,
   "metadata": {},
   "outputs": [],
   "source": [
    "# import pandas as pd\n",
    "\n",
    "# data = pd.read_csv('dedupe_test_3comps.csv')\n",
    "# data.reset_index(inplace=True, drop=True)\n",
    "\n",
    "# data = data.drop(columns='index')\n",
    "# data.to_csv(\"./dedupe_test_3comps.csv\")"
   ]
  },
  {
   "cell_type": "code",
   "execution_count": 32,
   "metadata": {
    "pycharm": {
     "name": "#%%\n"
    }
   },
   "outputs": [],
   "source": [
    "input_file = 'dedupe_test_3comps.csv'\n",
    "\n",
    "data_d = {}\n",
    "\n",
    "with open(input_file) as f:\n",
    "    reader = csv.DictReader(f)\n",
    "    for row in reader:\n",
    "        clean_row = [(k, [preProcess_half(v), preProcess(v)]) for (k, v) in row.items()]\n",
    "        row_id = int(row['index'])\n",
    "        data_d[row_id] = dict(clean_row)"
   ]
  },
  {
   "cell_type": "code",
   "execution_count": 33,
   "metadata": {
    "pycharm": {
     "name": "#%%\n"
    }
   },
   "outputs": [
    {
     "data": {
      "text/plain": [
       "({'index': '1234',\n",
       "  'product_code': '1000657939',\n",
       "  'product_name': '중성세제',\n",
       "  'product_desc': '수마퐁,15kg/ea',\n",
       "  'price': '12980',\n",
       "  'taxation': 'y',\n",
       "  'company': 'sw',\n",
       "  'origin': None,\n",
       "  'producer': None,\n",
       "  'storage': None,\n",
       "  'unit': 'ea',\n",
       "  'weight': '15kg',\n",
       "  'quantity': None},\n",
       " {'index': '1234',\n",
       "  'product_code': '1000657939',\n",
       "  'product_name': 'jungseongseje',\n",
       "  'product_desc': 'sumapong,15kg/ea',\n",
       "  'price': '12980',\n",
       "  'taxation': 'y',\n",
       "  'company': 'sw',\n",
       "  'origin': None,\n",
       "  'producer': None,\n",
       "  'storage': None,\n",
       "  'unit': 'ea',\n",
       "  'weight': '15kg',\n",
       "  'quantity': None})"
      ]
     },
     "execution_count": 33,
     "metadata": {},
     "output_type": "execute_result"
    }
   ],
   "source": [
    "uni_d[1234], ascii_d[1234]"
   ]
  },
  {
   "cell_type": "code",
   "execution_count": null,
   "metadata": {},
   "outputs": [],
   "source": []
  }
 ],
 "metadata": {
  "kernelspec": {
   "display_name": "Python 3",
   "language": "python",
   "name": "python3"
  },
  "language_info": {
   "codemirror_mode": {
    "name": "ipython",
    "version": 3
   },
   "file_extension": ".py",
   "mimetype": "text/x-python",
   "name": "python",
   "nbconvert_exporter": "python",
   "pygments_lexer": "ipython3",
   "version": "3.8.5"
  }
 },
 "nbformat": 4,
 "nbformat_minor": 1
}
